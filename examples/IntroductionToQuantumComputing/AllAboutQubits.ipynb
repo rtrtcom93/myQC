{
 "cells": [
  {
   "cell_type": "markdown",
   "metadata": {},
   "source": [
    "In this codercise, you are given an unnormalized vector\n",
    "\n",
    "$$\n",
    "|\\psi>=\\alpha|0\\rangle +\\beta|1\\rangle,\n",
    "\\quad |\\alpha|^{2} + |\\beta|^{2} \\neq 1\n",
    "$$\n",
    "\n",
    "We can turn this into an equivalent, valid quantum state $\\psi'$ by normalizing it. Your task is to complete the function normalize_state so that, given $\\alpha$ and $\\beta$ it normalizes this state to\n",
    "\n",
    "$$\n",
    "|\\psi'>=\\alpha'|0\\rangle +\\beta'|1\\rangle,\n",
    "\\quad |\\alpha'|^{2} + |\\beta'|^{2} \\neq 1\n",
    "$$\n"
   ]
  },
  {
   "cell_type": "code",
   "execution_count": 1,
   "metadata": {},
   "outputs": [],
   "source": [
    "import numpy as np\n",
    "ket_0 = np.array([1, 0])\n",
    "ket_1 = np.array([0, 1])"
   ]
  },
  {
   "cell_type": "markdown",
   "metadata": {},
   "source": [
    "Here are the vector representations of |0> and |1>, for convenience"
   ]
  },
  {
   "cell_type": "code",
   "execution_count": 2,
   "metadata": {},
   "outputs": [],
   "source": [
    "def normalized_state(alpha, beta) :\n",
    "    alpha_c = np.conj(alpha)\n",
    "    beta_c  = np.conj(beta)\n",
    "    \n",
    "    amp = np.sqrt(alpha*alpha_c + beta*beta_c)\n",
    "    \n",
    "    return [alpha/amp, beta/amp]"
   ]
  },
  {
   "cell_type": "markdown",
   "metadata": {},
   "source": [
    "Complete the ```inner_product``` function below that computes the inner product between two arbitrary states. Then, use it to verify that $|0\\rangle$ and $|1\\rangle$ form an __orthonormal basis__, i.e., the states are normalized and orthogonal."
   ]
  },
  {
   "cell_type": "code",
   "execution_count": 3,
   "metadata": {},
   "outputs": [],
   "source": [
    "def inner_product(state_1, state_2) :\n",
    "    state_1_c = np.conj(state_1)\n",
    "    return np.dot(state_1_c, state_2)"
   ]
  },
  {
   "cell_type": "markdown",
   "metadata": {},
   "source": [
    "Write the function 'measure_state' that takes a quantum state vector as input and simulates the outcomes of an arbitrary number of quantum measurements, i.e., return a list of samples **0** or **1** based on the probabilities given by the input state."
   ]
  },
  {
   "cell_type": "code",
   "execution_count": 4,
   "metadata": {},
   "outputs": [],
   "source": [
    "def measure_state(state, num_meas) :\n",
    "    state_c = np.conj(state)\n",
    "    weights = (state_c*state).real\n",
    "    cases = np.array([0, 1])\n",
    "    \n",
    "    meas = np.random.choice(cases, num_meas, replace=True, p=weights)\n",
    "\n",
    "    return meas"
   ]
  },
  {
   "cell_type": "markdown",
   "metadata": {},
   "source": [
    "Recall that quantum operations are represented as matrices. To preserve normalization, they must be a special type of matrix called a **unitary** matrix. For some $2\\times2$ complex-valued unitary matrix $U$ the state of the qubit after an operation is\n",
    "\n",
    "$$\n",
    "|\\psi'\\rangle> = U|\\psi'\\rangle>\n",
    "$$\n",
    "\n",
    "Let's simulate the process by completing the function 'apply_u' below to apply the provided quantum operation 'U' to an input 'state'."
   ]
  },
  {
   "cell_type": "code",
   "execution_count": 5,
   "metadata": {},
   "outputs": [],
   "source": [
    "def unitaryTransform(U, state) :\n",
    "    return np.matmul(U, state.T)    "
   ]
  },
  {
   "cell_type": "markdown",
   "metadata": {},
   "source": [
    "You may not have realized it, but you now have all the ingredients to write a very simple **quantum simulator** that can simulate the outcome of running quantum algorithms on a single qubit! Let's put everything together.\n",
    "\n",
    "Use the functions below to simulate a quantum algorithm that does the following:\n",
    "\n",
    "1. Initialize a qubit in state $|0\\rangle$\n",
    "2. Apply the provided operation U\n",
    "3. Simulate measuring the output state 100 times\n",
    "\n",
    "You'll have to complete a function for initialization, but we've provided functions for the other two."
   ]
  },
  {
   "cell_type": "code",
   "execution_count": 6,
   "metadata": {},
   "outputs": [],
   "source": [
    "def initialize_state() :\n",
    "    return np.array([1, 0])"
   ]
  },
  {
   "cell_type": "code",
   "execution_count": 7,
   "metadata": {},
   "outputs": [],
   "source": [
    "def quantum_algorithm() :\n",
    "    U = np.array([[1, 1], [1, -1]]) / np.sqrt(2)\n",
    "    M = unitaryTransform(U, initialize_state())\n",
    "    R = measure_state(M, 100)\n",
    "    return R\n",
    "    "
   ]
  },
  {
   "cell_type": "code",
   "execution_count": 8,
   "metadata": {},
   "outputs": [
    {
     "data": {
      "text/plain": [
       "array([0, 0, 1, 0, 1, 1, 1, 1, 0, 0, 1, 0, 0, 0, 1, 0, 1, 0, 1, 1, 0, 1,\n",
       "       0, 1, 0, 0, 0, 1, 1, 0, 0, 1, 1, 1, 0, 1, 1, 0, 0, 1, 0, 1, 0, 0,\n",
       "       0, 1, 1, 1, 0, 1, 0, 1, 1, 0, 0, 1, 1, 1, 0, 0, 0, 1, 1, 1, 1, 1,\n",
       "       0, 0, 0, 0, 0, 1, 1, 0, 1, 0, 1, 1, 1, 0, 1, 1, 1, 1, 0, 0, 1, 1,\n",
       "       0, 0, 0, 1, 0, 0, 0, 1, 1, 1, 1, 1])"
      ]
     },
     "execution_count": 8,
     "metadata": {},
     "output_type": "execute_result"
    }
   ],
   "source": [
    "quantum_algorithm()"
   ]
  }
 ],
 "metadata": {
  "kernelspec": {
   "display_name": "myQC (future)",
   "language": "python",
   "name": "myqc_future"
  },
  "language_info": {
   "codemirror_mode": {
    "name": "ipython",
    "version": 3
   },
   "file_extension": ".py",
   "mimetype": "text/x-python",
   "name": "python",
   "nbconvert_exporter": "python",
   "pygments_lexer": "ipython3",
   "version": "3.10.12"
  }
 },
 "nbformat": 4,
 "nbformat_minor": 2
}
