{
 "cells": [
  {
   "cell_type": "code",
   "execution_count": 2,
   "metadata": {},
   "outputs": [],
   "source": [
    "import numpy as np\n",
    "import pennylane as qml"
   ]
  },
  {
   "cell_type": "markdown",
   "metadata": {},
   "source": [
    "In PennyLane, unitary operations specified by a matrix can be implemented in a quantum circuit using the **QubitUnitary** operation. 'QubitUnitary' is a parametrized gate, and can be called like so:\n",
    "\n",
    "qml.QubitUnitary(U, wires=wire)\n",
    "\n",
    "Complete the quantum function below to create a circuit that applies $U$ to the qubit and returns its state. (Compare this to the earlier function 'apply_u' that you wrote before - isn't it nice to not have to worry about the matrix arithmetic?)"
   ]
  },
  {
   "cell_type": "code",
   "execution_count": 5,
   "metadata": {},
   "outputs": [],
   "source": [
    "dev = qml.device(\"default.qubit\", wires=1)\n",
    "\n",
    "U = np.array([[1, 1], [1, -1]]) / np.sqrt(2)\n",
    "\n",
    "\n",
    "@qml.qnode(dev)\n",
    "def apply_u():\n",
    "\n",
    "    ##################\n",
    "    # YOUR CODE HERE #\n",
    "    ##################\n",
    "\n",
    "    # USE QubitUnitary TO APPLY U TO THE QUBIT\n",
    "    qml.QubitUnitary(U, wires=0)\n",
    "\n",
    "    # Return the state\n",
    "    return qml.state()\n"
   ]
  },
  {
   "cell_type": "code",
   "execution_count": 6,
   "metadata": {},
   "outputs": [
    {
     "data": {
      "text/plain": [
       "tensor([0.70710678+0.j, 0.70710678+0.j], requires_grad=True)"
      ]
     },
     "execution_count": 6,
     "metadata": {},
     "output_type": "execute_result"
    }
   ],
   "source": [
    "apply_u()"
   ]
  },
  {
   "cell_type": "markdown",
   "metadata": {},
   "source": [
    "Unitary matrices can be parametrized. A single-qubit unitary operation can be expressed in terms of just three real numbers:\n",
    "\n",
    "$U(\\phi, \\theta, \\omega)=\n",
    "\\begin{pmatrix}\n",
    "e^{-i(\\phi+\\omega)/2}cos(\\theta/2) & -e^{i(\\phi-\\omega)/2}sin(\\theta/2) \\\\\n",
    "e^{-i(\\phi-\\omega)/2}sin(\\theta/2) & e^{i(\\phi+\\omega)/2}cos(\\theta/2) \\\\\n",
    "\\end{pmatrix}\n",
    "$\n",
    "\n",
    "In PennyLane, this parametrized operation is implemented as a gate called Rot. Rot takes three parameters, which are precisely the angles in the formula above:\n",
    "\n",
    "qml.Rot(phi, theta, omega, wires=wire)\n",
    "\n",
    "Apply the Rot operation to a qubit using the input parameters. Then, complete the QNode to return the quantum state vector, using qml.state()."
   ]
  },
  {
   "cell_type": "code",
   "execution_count": 7,
   "metadata": {},
   "outputs": [],
   "source": [
    "dev = qml.device(\"default.qubit\", wires=1)\n",
    "\n",
    "\n",
    "@qml.qnode(dev)\n",
    "def apply_u_as_rot(phi, theta, omega):\n",
    "\n",
    "    ##################\n",
    "    # YOUR CODE HERE #\n",
    "    ##################\n",
    "    # APPLY A ROT GATE USING THE PROVIDED INPUT PARAMETERS\n",
    "    qml.Rot(phi, theta, omega, wires=0)\n",
    "    \n",
    "    # RETURN THE QUANTUM STATE VECTOR\n",
    "\n",
    "    return qml.state()\n"
   ]
  }
 ],
 "metadata": {
  "kernelspec": {
   "display_name": "myQCE",
   "language": "python",
   "name": "myqc"
  },
  "language_info": {
   "codemirror_mode": {
    "name": "ipython",
    "version": 3
   },
   "file_extension": ".py",
   "mimetype": "text/x-python",
   "name": "python",
   "nbconvert_exporter": "python",
   "pygments_lexer": "ipython3",
   "version": "3.10.12"
  }
 },
 "nbformat": 4,
 "nbformat_minor": 2
}
